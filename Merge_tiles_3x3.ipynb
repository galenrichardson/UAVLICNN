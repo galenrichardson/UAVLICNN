{
 "cells": [
  {
   "cell_type": "code",
   "execution_count": null,
   "id": "moving-macedonia",
   "metadata": {},
   "outputs": [],
   "source": [
    "#Citation for the below code\n",
    "'''\n",
    "Title: UAV LiCNN Tile Creation\n",
    "Authors: Galen Richardson, Krishan Rajaratnam, Julie Lovitt\n",
    "Date: 07-14-2021\n",
    "Version: 1\n",
    "https://www.nrcan.gc.ca/science-and-data/research-centres-and-labs/canada-centre-remote-sensing/21749\n",
    "'''"
   ]
  },
  {
   "cell_type": "code",
   "execution_count": 1,
   "id": "hired-alliance",
   "metadata": {},
   "outputs": [],
   "source": [
    "from pathlib import Path\n",
    "import cv2\n",
    "import math\n",
    "import numpy as np\n",
    "import PIL,sys,shutil,os\n",
    "from PIL import Image\n",
    "import tensorflow as tf\n",
    "#for dislaying results\n",
    "import matplotlib.pyplot as plt\n",
    "from matplotlib.pyplot import imshow\n",
    "plt.rcParams['figure.dpi'] = 150 \n",
    "%matplotlib inline\n",
    "import time"
   ]
  },
  {
   "cell_type": "code",
   "execution_count": 14,
   "id": "verified-opening",
   "metadata": {},
   "outputs": [],
   "source": [
    "project_dir = Path(\"\").resolve()\n",
    "Photo_dir = str(project_dir / 'data/raw/test')\n",
    "Mask_dir = str(project_dir / 'data/raw/test_mask')\n",
    "out_photo_dir = str(project_dir / 'data/raw/test_3x3')\n",
    "out_mask_dir = str(project_dir / 'data/raw/test_mask3x3')\n",
    "augments=True"
   ]
  },
  {
   "cell_type": "code",
   "execution_count": 15,
   "id": "stock-ozone",
   "metadata": {},
   "outputs": [],
   "source": [
    "def dirs_setup(Photo_dir,Mask_dir):\n",
    "    global photo_list,mask_list,file_list\n",
    "    file_list= []\n",
    "    photo_list=[]\n",
    "    mask_list=[]\n",
    "    for path,subdir,files in os.walk(Photo_dir):\n",
    "        for file in files:\n",
    "            file_list.append(file)\n",
    "            photo_list.append(Photo_dir+'\\\\'+file)\n",
    "            mask_list.append(Mask_dir+'\\\\'+file)\n",
    "    if len(photo_list)!=len(mask_list):\n",
    "        print('input lists are different lenghts!!!')\n"
   ]
  },
  {
   "cell_type": "code",
   "execution_count": 16,
   "id": "eleven-corpus",
   "metadata": {},
   "outputs": [],
   "source": [
    "dirs_setup(Photo_dir,Mask_dir)"
   ]
  },
  {
   "cell_type": "code",
   "execution_count": 17,
   "id": "strong-constitutional",
   "metadata": {},
   "outputs": [],
   "source": [
    "import random\n",
    "rand_list=[]\n",
    "for i in range(200):\n",
    "    x=random.sample(range(len(mask_list)), 9)\n",
    "    if x in rand_list:\n",
    "        print('dup please redo')\n",
    "        \n",
    "        continue\n",
    "    else:\n",
    "        rand_list.append(x)\n",
    "        \n",
    "    "
   ]
  },
  {
   "cell_type": "code",
   "execution_count": 18,
   "id": "olympic-carry",
   "metadata": {},
   "outputs": [],
   "source": [
    "iter_num=0\n",
    "for rand in rand_list:\n",
    "    top_images = [Image.open(x) for x in [photo_list[rand[0]], photo_list[rand[1]],photo_list[rand[2]]]]\n",
    "    mid_images = [Image.open(x) for x in [photo_list[rand[3]], photo_list[rand[4]],photo_list[rand[5]]]]\n",
    "    bot_images = [Image.open(x) for x in [photo_list[rand[6]], photo_list[rand[7]],photo_list[rand[8]]]]\n",
    "    photo_im = Image.new('RGB', (240, 240))\n",
    "    t_offset = 0\n",
    "    m_offset = 0\n",
    "    b_offset = 0\n",
    "    for im in top_images:\n",
    "        photo_im.paste(im, (t_offset,0))\n",
    "        t_offset += im.size[0]\n",
    "    for im in mid_images:\n",
    "        photo_im.paste(im, (m_offset,80))\n",
    "        m_offset += im.size[0]\n",
    "    for im in bot_images:\n",
    "        photo_im.paste(im, (b_offset,160))\n",
    "        b_offset += im.size[0]\n",
    "    if augments==True:\n",
    "        num2 = tf.random.uniform(())\n",
    "        num3 = tf.random.uniform(())\n",
    "        num4 = tf.random.uniform(())\n",
    "        num5 = tf.random.uniform(()) \n",
    "        tf_img=tf.keras.preprocessing.image.img_to_array(photo_im)\n",
    "        tf_img = tf.cast(tf_img, tf.float32) / 255.0\n",
    "        if num4>.75:\n",
    "            s_img= tf.image.random_saturation(tf_img, 0.5,1)\n",
    "            c_img= tf.image.random_contrast(s_img, 0.5,.9)\n",
    "            tf_img = tf.clip_by_value(c_img, clip_value_min=0., clip_value_max=1.)\n",
    "        if num4<.25:\n",
    "            c_img= tf.image.random_contrast(tf_img, 0.5,1)\n",
    "            tf_img = tf.clip_by_value(c_img, clip_value_min=0., clip_value_max=1.)\n",
    "        if num3<.25:\n",
    "            b_img=tf.image.adjust_brightness(tf_img, -.1)\n",
    "            tf_img = tf.clip_by_value(b_img, clip_value_min=0., clip_value_max=1.)\n",
    "        tf.keras.preprocessing.image.save_img(out_photo_dir+'\\\\'+str(iter_num)+'.png', tf_img, data_format=None, file_format=None, scale=True,)\n",
    "    else:\n",
    "        photo_im.save(out_photo_dir+'\\\\'+str(iter_num)+'.png')\n",
    "        \n",
    "    top_images = [Image.open(x) for x in [mask_list[rand[0]], mask_list[rand[1]],mask_list[rand[2]]]]\n",
    "    mid_images = [Image.open(x) for x in [mask_list[rand[3]], mask_list[rand[4]],mask_list[rand[5]]]]\n",
    "    bot_images = [Image.open(x) for x in [mask_list[rand[6]], mask_list[rand[7]],mask_list[rand[8]]]]\n",
    "    mask_im = Image.new('RGB', (240, 240))\n",
    "    t_offset = 0\n",
    "    m_offset = 0\n",
    "    b_offset = 0\n",
    "    for im in top_images:\n",
    "        mask_im.paste(im, (t_offset,0))\n",
    "        t_offset += im.size[0]\n",
    "    for im in mid_images:\n",
    "        mask_im.paste(im, (m_offset,80))\n",
    "        m_offset += im.size[0]\n",
    "    for im in bot_images:\n",
    "        mask_im.paste(im, (b_offset,160))\n",
    "        b_offset += im.size[0]\n",
    "    mask_im.save(out_mask_dir+'\\\\'+str(iter_num)+'.png')\n",
    "    iter_num+=1\n"
   ]
  }
 ],
 "metadata": {
  "kernelspec": {
   "display_name": "Python 3",
   "language": "python",
   "name": "python3"
  },
  "language_info": {
   "codemirror_mode": {
    "name": "ipython",
    "version": 3
   },
   "file_extension": ".py",
   "mimetype": "text/x-python",
   "name": "python",
   "nbconvert_exporter": "python",
   "pygments_lexer": "ipython3",
   "version": "3.7.9"
  }
 },
 "nbformat": 4,
 "nbformat_minor": 5
}
